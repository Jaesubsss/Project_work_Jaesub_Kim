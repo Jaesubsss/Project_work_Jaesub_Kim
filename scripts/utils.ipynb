{
 "cells": [
  {
   "cell_type": "code",
   "execution_count": 1,
   "metadata": {},
   "outputs": [],
   "source": [
    "from torch.utils.data import Dataset\n",
    "from torch import Tensor\n",
    "import numpy as np"
   ]
  },
  {
   "cell_type": "code",
   "execution_count": null,
   "metadata": {},
   "outputs": [],
   "source": [
    "class OmicsDataset(Dataset): # PyTorch의 dataset class를 상속받아서 새로운 클래스를 정의\n",
    "    def __init__(self, omic_dict, drug_dict, data): # 1 \n",
    "        self.omic_dict = omic_dict\n",
    "        self.drug_dict = drug_dict\n",
    "        self.cell_mapped_ids = {key:i for i, key in enumerate(self.omic_dict.keys())}\n",
    "        # 2\n",
    "        self.drug_mapped_ids = {key:i for i, key in enumerate(self.drug_dict.keys())}\n",
    "        self.data = data\n",
    "        \n",
    "    def __len__(self):\n",
    "        return len(self.data)\n",
    "        # 데이터셋 크기\n",
    "        \n",
    "    def __getitem__(self, idx): # 3\n",
    "        instance = self.data.iloc[idx] # 해당 인덱스의 위치에 있는 데이터 (cell ID, drug ID, target value)\n",
    "        cell_id = instance.iloc[0]\n",
    "        drug_id = instance.iloc[1]\n",
    "        target = instance.iloc[2]\n",
    "        return (self.omic_dict[cell_id],\n",
    "                self.drug_dict[drug_id],\n",
    "                Tensor([target]),\n",
    "                Tensor([self.cell_mapped_ids[cell_id]]),\n",
    "                Tensor([self.drug_mapped_ids[drug_id]])) "
   ]
  },
  {
   "cell_type": "markdown",
   "metadata": {},
   "source": [
    "- OmicsDataset(Dataset): PyTorch의 dataset class를 상속받아서 새로운 클래스를 정의\n",
    "  1. cell linse에 대한 딕셔너리, 약물 딕셔너리, 데이터를 받아서 저장 \n",
    "  2. omic_dict의 키를 고유한 인덱스로 매핑한다. enumerate는 키들을 순서대로 열거하여 (인덱스, 키) 형태의 튜플로 반환한다. 딕셔너리 컴프레헨션: 각 키를 key로, 각 키의 인덱스를 i로 사용하여 {key:i}형태로 매핑된 딕셔너리 만듬.\n",
    "  3. 인덱스를 받아, 인덱스에 해당하는 샘플을 반환"
   ]
  },
  {
   "cell_type": "code",
   "execution_count": null,
   "metadata": {},
   "outputs": [],
   "source": [
    "import rdkit # 분자구조와 화합물에 대한 정보를 다루는 라이브러리\n",
    "from rdkit.Chem import AllChem\n",
    "class FingerprintFeaturizer():\n",
    "    # 화합물의 SMILES 문자열로부터 fingerprint를 추출하여 feature vector로 변환함.\n",
    "    def __init__(self,\n",
    "                 fingerprint = \"morgan\", # morgan fingerprint 유형을 사용한다. 주로 원자 주변의 원자 구조를 반영하는 방식이며, 원의 반경 R을 지정할 수 있다. \n",
    "                 R=2, \n",
    "                 fp_kwargs = {},\n",
    "                 transform = Tensor):\n",
    "        \"\"\"\n",
    "        Get a fingerprint from a list of molecules.\n",
    "        Available fingerprints: MACCS, morgan, topological_torsion\n",
    "        R is only used for morgan fingerprint.\n",
    "        fp_kwards passes the arguments to the rdkit fingerprint functions:\n",
    "        GetMorganFingerprintAsBitVect, GetMACCSKeysFingerprint, GetTopologicalTorsionFingerprint\n",
    "        \"\"\"\n",
    "        self.R = R\n",
    "        self.fp_kwargs = fp_kwargs # fingerprint에 추가적으로 전달할 인자들\n",
    "        self.fingerprint = fingerprint\n",
    "        if fingerprint == \"morgan\":\n",
    "            self.f = lambda x: rdkit.Chem.rdMolDescriptors.GetMorganFingerprintAsBitVect(x, self.R, **fp_kwargs)\n",
    "            # 파이썬에서 **는 포인터가 아닌 keyword argument를 전달할 때 사용된다. **는 딕셔너리를 함수의 인수로 전달할 때 그 내용을 키-값 쌍으로 분해하여 전달한다. \n",
    "        elif fingerprint == \"MACCS\":\n",
    "            self.f = lambda x: rdkit.Chem.rdMolDescriptors.GetMACCSKeysFingerprint(x, **fp_kwargs)\n",
    "        elif fingerprint == \"topological_torsion\":\n",
    "            self.f = lambda x: rdkit.Chem.rdMolDescriptors.GetTopologicalTorsionFingerprint(x, **fp_kwargs)\n",
    "        self.transform = transform\n",
    "        \n",
    "    def __call__(self, smiles_list, drugs = None):\n",
    "        # SMILES 문자열 리스트를 받아, 각 문자열을 RDKit의 Mol 객체로 변환하고, 변환된 분자를 self.f 함수에 전달하여 fingerprint 벡터로 변환한다.\n",
    "        # 이 때, 변환에 실패하면 None을 반환해 문제 발생 시 유연하게 처리한다. \n",
    "        drug_dict = {}\n",
    "        if drugs is None:\n",
    "            drugs = np.arange(len(smiles_list))\n",
    "            # 기본값(None)일 때, 순서대로 인덱스를 부여한다.\n",
    "            \n",
    "        for i in range(len(smiles_list)):\n",
    "            try:\n",
    "                smiles = smiles_list[i]\n",
    "                molecule = AllChem.MolFromSmiles(smiles) # SMILES 문자열을 RDKit의 Mol 객체로 변환\n",
    "                feature_list = self.f(molecule)\n",
    "                f = np.array(feature_list)\n",
    "                if self.transform is not None:\n",
    "                    f = self.transform(f)\n",
    "                drug_dict[drugs[i]] = f\n",
    "            except:\n",
    "                drug_dict[drugs[i]] = None\n",
    "        return drug_dict\n",
    "    \n",
    "    def __str__(self):\n",
    "        \"\"\"\n",
    "        returns a description of the featurization\n",
    "        \"\"\"\n",
    "        return f\"{self.fingerprint}Fingerprint_R{self.R}_{str(self.fp_kwargs)}\""
   ]
  }
 ],
 "metadata": {
  "kernelspec": {
   "display_name": "Python 3",
   "language": "python",
   "name": "python3"
  },
  "language_info": {
   "codemirror_mode": {
    "name": "ipython",
    "version": 3
   },
   "file_extension": ".py",
   "mimetype": "text/x-python",
   "name": "python",
   "nbconvert_exporter": "python",
   "pygments_lexer": "ipython3",
   "version": "3.11.9"
  }
 },
 "nbformat": 4,
 "nbformat_minor": 2
}
