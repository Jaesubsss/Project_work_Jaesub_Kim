{
 "cells": [
  {
   "cell_type": "code",
   "execution_count": 32,
   "id": "f575ead7-adce-4d3f-b32b-21e7ed19d66d",
   "metadata": {},
   "outputs": [],
   "source": [
    "import os\n",
    "os.chdir(\"/work/kim14/project_work/\")\n",
    "basepath = os.getcwd()\n",
    "path = basepath + \"/results/\"\n",
    "flist = os.listdir(path)"
   ]
  },
  {
   "cell_type": "code",
   "execution_count": 33,
   "id": "7877adea-97f8-4078-ae9e-367854769733",
   "metadata": {},
   "outputs": [],
   "source": [
    "for file in flist:\n",
    "    if \".csv\" in file:\n",
    "        os.remove(path + file)"
   ]
  },
  {
   "cell_type": "code",
   "execution_count": 27,
   "id": "4995cc41-df71-4034-bc26-2e252d216c36",
   "metadata": {},
   "outputs": [
    {
     "name": "stdout",
     "output_type": "stream",
     "text": [
      "Sat Nov 23 00:50:51 2024       \n",
      "+---------------------------------------------------------------------------------------+\n",
      "| NVIDIA-SMI 535.183.01             Driver Version: 535.183.01   CUDA Version: 12.2     |\n",
      "|-----------------------------------------+----------------------+----------------------+\n",
      "| GPU  Name                 Persistence-M | Bus-Id        Disp.A | Volatile Uncorr. ECC |\n",
      "| Fan  Temp   Perf          Pwr:Usage/Cap |         Memory-Usage | GPU-Util  Compute M. |\n",
      "|                                         |                      |               MIG M. |\n",
      "|=========================================+======================+======================|\n",
      "|   0  Tesla V100-PCIE-16GB           On  | 00000000:21:00.0 Off |                    0 |\n",
      "| N/A   36C    P0              48W / 250W |   3084MiB / 16384MiB |     18%      Default |\n",
      "|                                         |                      |                  N/A |\n",
      "+-----------------------------------------+----------------------+----------------------+\n",
      "|   1  Tesla V100-PCIE-16GB           On  | 00000000:81:00.0 Off |                    0 |\n",
      "| N/A   33C    P0              40W / 250W |   1050MiB / 16384MiB |     13%      Default |\n",
      "|                                         |                      |                  N/A |\n",
      "+-----------------------------------------+----------------------+----------------------+\n",
      "|   2  Tesla V100-PCIE-16GB           On  | 00000000:E2:00.0 Off |                    0 |\n",
      "| N/A   33C    P0              45W / 250W |   2056MiB / 16384MiB |     26%      Default |\n",
      "|                                         |                      |                  N/A |\n",
      "+-----------------------------------------+----------------------+----------------------+\n",
      "                                                                                         \n",
      "+---------------------------------------------------------------------------------------+\n",
      "| Processes:                                                                            |\n",
      "|  GPU   GI   CI        PID   Type   Process name                            GPU Memory |\n",
      "|        ID   ID                                                             Usage      |\n",
      "|=======================================================================================|\n",
      "|    0   N/A  N/A    515693      C   ...im14/.conda/envs/jupyter/bin/python     1026MiB |\n",
      "|    0   N/A  N/A    524937      C   ...im14/.conda/envs/jupyter/bin/python     1028MiB |\n",
      "|    0   N/A  N/A    527400      C   ...im14/.conda/envs/jupyter/bin/python     1026MiB |\n",
      "|    1   N/A  N/A    525506      C   ...im14/.conda/envs/jupyter/bin/python     1046MiB |\n",
      "|    2   N/A  N/A    524617      C   ...im14/.conda/envs/jupyter/bin/python     1026MiB |\n",
      "|    2   N/A  N/A    531829      C   ...im14/.conda/envs/jupyter/bin/python     1026MiB |\n",
      "+---------------------------------------------------------------------------------------+\n"
     ]
    }
   ],
   "source": [
    "!nvidia-smi"
   ]
  },
  {
   "cell_type": "code",
   "execution_count": 31,
   "id": "83091861-9f2f-4454-870d-bff231986341",
   "metadata": {},
   "outputs": [],
   "source": [
    "#os.remove(\"/work/kim14/project_work/results/pred_ensemble__20241123_02:45:14_50b30a63-de98-4e04-8449-51328a8d1de2.csv\")"
   ]
  },
  {
   "cell_type": "code",
   "execution_count": null,
   "id": "7758c4af-9dcd-4928-a655-413a1d3d24e2",
   "metadata": {},
   "outputs": [],
   "source": []
  }
 ],
 "metadata": {
  "kernelspec": {
   "display_name": "Python 3 (ipykernel)",
   "language": "python",
   "name": "python3"
  },
  "language_info": {
   "codemirror_mode": {
    "name": "ipython",
    "version": 3
   },
   "file_extension": ".py",
   "mimetype": "text/x-python",
   "name": "python",
   "nbconvert_exporter": "python",
   "pygments_lexer": "ipython3",
   "version": "3.11.7"
  }
 },
 "nbformat": 4,
 "nbformat_minor": 5
}
