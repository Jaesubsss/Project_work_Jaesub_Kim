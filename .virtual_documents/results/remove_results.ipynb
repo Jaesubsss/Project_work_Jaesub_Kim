import os
os.chdir("/work/kim14/project_work/")
basepath = os.getcwd()
path = basepath + "/results/"
flist = os.listdir(path)


for file in flist:
    if ".csv" in file:
        os.remove(path + file)


!nvidia-smi


#os.remove("/work/kim14/project_work/results/pred_ensemble__20241123_02:45:14_50b30a63-de98-4e04-8449-51328a8d1de2.csv")



