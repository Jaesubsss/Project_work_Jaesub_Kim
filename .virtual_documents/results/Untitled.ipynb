import pandas as pd
import matplotlib.pyplot as plt


score_table = pd.read_csv("evaluation_table.csv")


columns_to_plot = ["MSE", "R_cellwise", "R_cellwise_residuals"]
for column in columns_to_plot:
    plt.figure(figsize=(8, 6))
    plt.bar(score_table["Model"], score_table[column].astype(float))
    plt.title(f"Bar Plot for {column}")
    plt.xlabel("Model")
    plt.ylabel(column)
    plt.xticks(rotation=45, ha='right')
    plt.tight_layout()
    plt.show()



