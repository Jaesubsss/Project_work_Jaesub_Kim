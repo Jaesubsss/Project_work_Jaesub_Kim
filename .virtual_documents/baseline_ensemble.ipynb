import pandas as pd
import scripts
from datetime import datetime
import torchmetrics
import torch


# get data from 5 models
rnaseq = pd.read_csv("results/pred_baseline_rnaseq_20241206_18:25:44_b6ac866c-ead5-41d3-9dd3-30a418937e67.csv")
methyl = pd.read_csv("results/pred_baseline_methylations_20241206_18:26:54_46123574-5571-47f2-9b53-cf7964138929.csv")
prot = pd.read_csv("results/pred_baseline_proteomics_20241206_18:28:16_970a0a96-885e-41cc-b81f-d99dff686f87.csv")
muta = pd.read_csv("results/pred_baseline_muta_20241206_18:24:40_1c2580dd-a6f6-4d14-9dfd-f674cb162809.csv")
cnv = pd.read_csv("results/pred_baseline_cnvs_20241206_18:24:14_2a4a9716-3efd-4b43-9702-c6dbd53db681.csv")
#concat = pd.read_csv("results/pred_baseline_concatenated_20241123_010128_ffdb308e-5cff-448f-9dac-a9e99abc226b.csv")


# to proceed averaging step, it is require to check if the predicted values are ordered identically 
check_cell_col = pd.concat([rnaseq["cell_line"], methyl["cell_line"], prot["cell_line"], muta["cell_line"], cnv["cell_line"]],axis = 1, ignore_index=True)
all_same = check_cell_col.nunique(axis=1) == 1
rows_with_different_values = check_cell_col[~all_same]
print(rows_with_different_values) # yes!


# Since the predicted values from all 5 models have same order, we can simply take the mean rowwise 
result = rnaseq[["cell_line", "drug_id", "target"]]
pred_values = pd.concat([rnaseq["prediction"], methyl["prediction"], prot["prediction"], muta["prediction"], cnv["prediction"]],axis = 1, ignore_index=True)

mean_prediction = pred_values.mean(axis=1)

col = ["cell_line", "drug_id", "prediction", "target"]
result["prediction"] = mean_prediction.astype(float)
result = result[col]
result["target"] = result["target"].astype(float)

display(result)


# save the result
filename = scripts.generate_filename(model_name = "baseline", dataset_name = "ensemble", extension = "csv")
result.to_csv("results/" + filename, index=False)
print(f"Predictions saved to: results/{filename}")


# evaluation

metrics = torchmetrics.MetricTracker(torchmetrics.MetricCollection(
    {"R_cellwise_residuals":scripts.GroupwiseMetric(metric=torchmetrics.functional.pearson_corrcoef,
                          grouping="drugs",
                          average="macro",
                          residualize=True),
    "R_cellwise":scripts.GroupwiseMetric(metric=torchmetrics.functional.pearson_corrcoef,
                          grouping="cell_lines",
                          average="macro",
                          residualize=False),
    "MSE":torchmetrics.MeanSquaredError()}))

metrics.increment()

metrics.update( # convert each series to tensor, to make it suitable for metrics.update()
    torch.tensor(result["prediction"].values, dtype=torch.float32),
    torch.tensor(result["target"].values, dtype=torch.float32),
    cell_lines=torch.tensor(result["cell_line"].values),
    drugs=torch.tensor(result["drug_id"].values),
)

ens_final_metrics = {it[0]: it[1].item() for it in metrics.compute().items()}
print(ens_final_metrics)


eresult = ens_final_metrics

model_name = "baseline_ensemble"
eresult["Model"] = model_name
time = datetime.now().strftime("%Y%m%d_%H:%M")
eresult["Time"] = time

eresult_df = pd.DataFrame([eresult])


new_column_order = ["Model", "MSE", "R_cellwise", "R_cellwise_residuals","Time"]
eresult_df = eresult_df[new_column_order]

ev_table = pd.read_csv("results/evalutation_table.csv")
ev_table = pd.concat([ev_table, eresult_df], ignore_index=True)
ev_table = ev_table.drop_duplicates(subset=["Model"],keep = "last")
display(ev_table)


ev_table.to_csv("results/evalutation_table.csv", index = False)


display(ev_table)






