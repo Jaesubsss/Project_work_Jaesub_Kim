{
 "cells": [
  {
   "cell_type": "markdown",
   "id": "cbde8def-f4af-4a09-82a2-a664063e19fe",
   "metadata": {},
   "source": [
    "# RNA seq only. baseline model"
   ]
  },
  {
   "cell_type": "code",
   "execution_count": 6,
   "id": "e40f5496-f1b7-4065-8fb7-6a9e82201fc2",
   "metadata": {},
   "outputs": [
    {
     "name": "stdout",
     "output_type": "stream",
     "text": [
      "Fri Dec  6 17:56:56 2024       \n",
      "+---------------------------------------------------------------------------------------+\n",
      "| NVIDIA-SMI 535.183.01             Driver Version: 535.183.01   CUDA Version: 12.2     |\n",
      "|-----------------------------------------+----------------------+----------------------+\n",
      "| GPU  Name                 Persistence-M | Bus-Id        Disp.A | Volatile Uncorr. ECC |\n",
      "| Fan  Temp   Perf          Pwr:Usage/Cap |         Memory-Usage | GPU-Util  Compute M. |\n",
      "|                                         |                      |               MIG M. |\n",
      "|=========================================+======================+======================|\n",
      "|   0  Tesla V100-PCIE-16GB           On  | 00000000:21:00.0 Off |                    0 |\n",
      "| N/A   34C    P0              37W / 250W |   1638MiB / 16384MiB |      0%      Default |\n",
      "|                                         |                      |                  N/A |\n",
      "+-----------------------------------------+----------------------+----------------------+\n",
      "|   1  Tesla V100-PCIE-16GB           On  | 00000000:81:00.0 Off |                    0 |\n",
      "| N/A   32C    P0              43W / 250W |   2010MiB / 16384MiB |     10%      Default |\n",
      "|                                         |                      |                  N/A |\n",
      "+-----------------------------------------+----------------------+----------------------+\n",
      "|   2  Tesla V100-PCIE-16GB           On  | 00000000:E2:00.0 Off |                    0 |\n",
      "| N/A   32C    P0              56W / 250W |   1036MiB / 16384MiB |     25%      Default |\n",
      "|                                         |                      |                  N/A |\n",
      "+-----------------------------------------+----------------------+----------------------+\n",
      "                                                                                         \n",
      "+---------------------------------------------------------------------------------------+\n",
      "| Processes:                                                                            |\n",
      "|  GPU   GI   CI        PID   Type   Process name                            GPU Memory |\n",
      "|        ID   ID                                                             Usage      |\n",
      "|=======================================================================================|\n",
      "|    0   N/A  N/A    132386      C   ...ware/Anaconda3/2024.02-1/bin/python     1138MiB |\n",
      "|    0   N/A  N/A    153414      C   ...ware/Anaconda3/2024.02-1/bin/python      496MiB |\n",
      "|    1   N/A  N/A    111567      C   ...ware/Anaconda3/2024.02-1/bin/python     1508MiB |\n",
      "|    1   N/A  N/A    153809      C   ...ware/Anaconda3/2024.02-1/bin/python      498MiB |\n",
      "|    2   N/A  N/A    153717      C   ...ware/Anaconda3/2024.02-1/bin/python      496MiB |\n",
      "|    2   N/A  N/A    154065      C   ...ware/Anaconda3/2024.02-1/bin/python      536MiB |\n",
      "+---------------------------------------------------------------------------------------+\n"
     ]
    }
   ],
   "source": [
    "!nvidia-smi"
   ]
  },
  {
   "cell_type": "code",
   "execution_count": 7,
   "id": "700c0d66-85c5-49e7-a029-d17bd6a3afd2",
   "metadata": {
    "scrolled": true
   },
   "outputs": [],
   "source": [
    "import pandas as pd\n",
    "import numpy as np\n",
    "import torch\n",
    "import scripts\n",
    "from functools import lru_cache\n",
    "import torchmetrics\n",
    "from torch import nn\n",
    "import optuna"
   ]
  },
  {
   "cell_type": "code",
   "execution_count": 8,
   "id": "3d4dc97c-2c46-4960-8906-5a6c48d95966",
   "metadata": {},
   "outputs": [],
   "source": [
    "config = {\"features\" : {\"fp_radius\":2}, # chemical의 fingerprint 생성 radius를 2로 설정\n",
    "          \"optimizer\": {\"batch_size\": 220, # 한번에 학습시킬 데이터의 양\n",
    "                        \"clip_norm\":19, # 그라디언트 클리핑에 사용할 최대 norm 값\n",
    "                        \"learning_rate\": 0.0004592646200179472, # 학습률\n",
    "                        \"stopping_patience\":15}, # 개선되지 않는 epoch가 15번 이상 나오면 학습을 중단\n",
    "          \"model\":{\"embed_dim\":485, # input을 embedding할 때 사용할 차원\n",
    "                 \"hidden_dim\":696, # hidden layer의 차원\n",
    "                 \"dropout\":0.48541242824674574, # 40퍼센트의 노드를 랜덤하게 드랍아웃 \n",
    "                 \"n_layers\": 4, # 3개의 hidden layer를 사용\n",
    "                 \"norm\": \"batchnorm\"}, # batch normalization을 사용하여 모델이 학습 중 출력 분포를 정규화하여 학습을 안정화\n",
    "         \"env\": {\"fold\": 0, # 0번째 fold를 사용하여 학습. 이는 음 n_fold에 들어갈 값을 의미하는 듯 하다. \n",
    "                \"device\":\"cuda:0\", # GPU자원을 사용할 장치를 지정한다. \n",
    "                 \"max_epochs\": 100, # 최대 epoch 수 \n",
    "                 \"search_hyperparameters\":False}} # hyper parameter 이미 있으니 안쓴다."
   ]
  },
  {
   "cell_type": "code",
   "execution_count": 9,
   "id": "389e011c-7a75-45c6-9588-3d755e9bdf8c",
   "metadata": {
    "scrolled": true
   },
   "outputs": [],
   "source": [
    "# rna-seq\n",
    "rna_train_dataset, rna_validation_dataset, rna_test_dataset = scripts.get_data(n_fold = config[\"env\"][\"fold\"],\n",
    "                                                           fp_radius = config[\"features\"][\"fp_radius\"],typ = \"rnaseq\")"
   ]
  },
  {
   "cell_type": "code",
   "execution_count": 11,
   "id": "b4d063aa-45a5-42f3-8b9d-1efab01583ac",
   "metadata": {
    "scrolled": true
   },
   "outputs": [
    {
     "name": "stdout",
     "output_type": "stream",
     "text": [
      "epoch : 0: train loss: 2.019056471817573 Smoothed R interaction (validation) None\n",
      "epoch : 1: train loss: 1.5396393802758348 Smoothed R interaction (validation) None\n",
      "epoch : 2: train loss: 1.4630655652955082 Smoothed R interaction (validation) None\n",
      "epoch : 3: train loss: 1.3991954665543564 Smoothed R interaction (validation) None\n",
      "epoch : 4: train loss: 1.3372507542555943 Smoothed R interaction (validation) None\n",
      "epoch : 5: train loss: 1.293961826375742 Smoothed R interaction (validation) None\n",
      "epoch : 6: train loss: 1.2486187188675435 Smoothed R interaction (validation) None\n",
      "epoch : 7: train loss: 1.2132622094914705 Smoothed R interaction (validation) None\n",
      "epoch : 8: train loss: 1.1802035777913624 Smoothed R interaction (validation) None\n",
      "epoch : 9: train loss: 1.1517830166887442 Smoothed R interaction (validation) None\n",
      "epoch : 10: train loss: 1.1216246497498454 Smoothed R interaction (validation) None\n",
      "epoch : 11: train loss: 1.1059836639904121 Smoothed R interaction (validation) None\n",
      "epoch : 12: train loss: 1.0810233784105043 Smoothed R interaction (validation) None\n",
      "epoch : 13: train loss: 1.0587845995782774 Smoothed R interaction (validation) None\n",
      "epoch : 14: train loss: 1.0442822656613788 Smoothed R interaction (validation) None\n",
      "epoch : 15: train loss: 1.028813192811973 Smoothed R interaction (validation) None\n",
      "epoch : 16: train loss: 1.0134492051616146 Smoothed R interaction (validation) None\n",
      "epoch : 17: train loss: 1.0091643200816567 Smoothed R interaction (validation) None\n",
      "epoch : 18: train loss: 0.9871245949023734 Smoothed R interaction (validation) None\n",
      "epoch : 19: train loss: 0.9741566570933876 Smoothed R interaction (validation) None\n",
      "epoch : 20: train loss: 0.9596529812246967 Smoothed R interaction (validation) None\n",
      "epoch : 21: train loss: 0.9467810485949475 Smoothed R interaction (validation) None\n",
      "epoch : 22: train loss: 0.9347485941921088 Smoothed R interaction (validation) None\n",
      "epoch : 23: train loss: 0.9312088654568818 Smoothed R interaction (validation) None\n",
      "epoch : 24: train loss: 0.9156778944732232 Smoothed R interaction (validation) None\n",
      "epoch : 25: train loss: 0.9060658808839042 Smoothed R interaction (validation) None\n",
      "epoch : 26: train loss: 0.8970240847436695 Smoothed R interaction (validation) None\n",
      "epoch : 27: train loss: 0.8864918717347795 Smoothed R interaction (validation) None\n",
      "epoch : 28: train loss: 0.8824312376003478 Smoothed R interaction (validation) None\n",
      "epoch : 29: train loss: 0.8675673334353934 Smoothed R interaction (validation) None\n",
      "epoch : 30: train loss: 0.8582387562882621 Smoothed R interaction (validation) None\n",
      "epoch : 31: train loss: 0.8461071952017041 Smoothed R interaction (validation) None\n",
      "epoch : 32: train loss: 0.8426326943563737 Smoothed R interaction (validation) None\n",
      "epoch : 33: train loss: 0.8323446249563997 Smoothed R interaction (validation) None\n",
      "epoch : 34: train loss: 0.8253891619822593 Smoothed R interaction (validation) None\n",
      "epoch : 35: train loss: 0.8206295197178024 Smoothed R interaction (validation) None\n",
      "epoch : 36: train loss: 0.8119960184887107 Smoothed R interaction (validation) None\n",
      "epoch : 37: train loss: 0.8000386201112321 Smoothed R interaction (validation) None\n",
      "epoch : 38: train loss: 0.7935891041649581 Smoothed R interaction (validation) None\n",
      "epoch : 39: train loss: 0.7858511745119272 Smoothed R interaction (validation) None\n",
      "epoch : 40: train loss: 0.7781612285872178 Smoothed R interaction (validation) None\n",
      "epoch : 41: train loss: 0.7702321215303631 Smoothed R interaction (validation) None\n",
      "epoch : 42: train loss: 0.7663970986019696 Smoothed R interaction (validation) None\n",
      "epoch : 43: train loss: 0.7631539546957122 Smoothed R interaction (validation) None\n",
      "epoch : 44: train loss: 0.7522440322102664 Smoothed R interaction (validation) None\n",
      "epoch : 45: train loss: 0.7513920101895468 Smoothed R interaction (validation) None\n",
      "epoch : 46: train loss: 0.7402286302616039 Smoothed R interaction (validation) None\n",
      "epoch : 47: train loss: 0.7366818376392016 Smoothed R interaction (validation) None\n",
      "epoch : 48: train loss: 0.7315030930142468 Smoothed R interaction (validation) None\n",
      "epoch : 49: train loss: 0.7210036854735117 Smoothed R interaction (validation) None\n",
      "epoch : 50: train loss: 0.7181062676261176 Smoothed R interaction (validation) None\n",
      "epoch : 51: train loss: 0.7146617369392452 Smoothed R interaction (validation) None\n",
      "epoch : 52: train loss: 0.7090935157093925 Smoothed R interaction (validation) None\n",
      "epoch : 53: train loss: 0.7062557288462801 Smoothed R interaction (validation) None\n",
      "epoch : 54: train loss: 0.7008442505917826 Smoothed R interaction (validation) None\n",
      "epoch : 55: train loss: 0.6941113947937898 Smoothed R interaction (validation) None\n",
      "epoch : 56: train loss: 0.6891805599587515 Smoothed R interaction (validation) None\n",
      "epoch : 57: train loss: 0.6839436762707195 Smoothed R interaction (validation) None\n",
      "epoch : 58: train loss: 0.6822464316530782 Smoothed R interaction (validation) None\n",
      "epoch : 59: train loss: 0.6757865143279063 Smoothed R interaction (validation) None\n",
      "epoch : 60: train loss: 0.6685016363748661 Smoothed R interaction (validation) None\n",
      "epoch : 61: train loss: 0.6653786828771362 Smoothed R interaction (validation) None\n",
      "epoch : 62: train loss: 0.6625671307516039 Smoothed R interaction (validation) None\n",
      "epoch : 63: train loss: 0.6546895189765652 Smoothed R interaction (validation) None\n",
      "epoch : 64: train loss: 0.6513432090818808 Smoothed R interaction (validation) None\n",
      "epoch : 65: train loss: 0.6509106888980299 Smoothed R interaction (validation) None\n",
      "epoch : 66: train loss: 0.6440983815084135 Smoothed R interaction (validation) None\n",
      "epoch : 67: train loss: 0.6398052058570612 Smoothed R interaction (validation) None\n",
      "epoch : 68: train loss: 0.635334874113057 Smoothed R interaction (validation) None\n",
      "epoch : 69: train loss: 0.6337325361514711 Smoothed R interaction (validation) None\n",
      "epoch : 70: train loss: 0.6288829963419434 Smoothed R interaction (validation) None\n",
      "epoch : 71: train loss: 0.6248725373459099 Smoothed R interaction (validation) None\n",
      "epoch : 72: train loss: 0.6206493454677949 Smoothed R interaction (validation) None\n",
      "epoch : 73: train loss: 0.61721624513197 Smoothed R interaction (validation) None\n",
      "epoch : 74: train loss: 0.6156898351623337 Smoothed R interaction (validation) None\n",
      "epoch : 75: train loss: 0.609502117440786 Smoothed R interaction (validation) None\n",
      "epoch : 76: train loss: 0.6082843117719823 Smoothed R interaction (validation) None\n",
      "epoch : 77: train loss: 0.601485052200124 Smoothed R interaction (validation) None\n",
      "epoch : 78: train loss: 0.5982495007025739 Smoothed R interaction (validation) None\n",
      "epoch : 79: train loss: 0.5953227847040952 Smoothed R interaction (validation) None\n",
      "epoch : 80: train loss: 0.593671924951492 Smoothed R interaction (validation) None\n",
      "epoch : 81: train loss: 0.5910386793103589 Smoothed R interaction (validation) None\n",
      "epoch : 82: train loss: 0.588130642516062 Smoothed R interaction (validation) None\n",
      "epoch : 83: train loss: 0.5853454701611669 Smoothed R interaction (validation) None\n",
      "epoch : 84: train loss: 0.579264393032555 Smoothed R interaction (validation) None\n",
      "epoch : 85: train loss: 0.5791060976840657 Smoothed R interaction (validation) None\n",
      "epoch : 86: train loss: 0.5732927576204755 Smoothed R interaction (validation) None\n",
      "epoch : 87: train loss: 0.5724752227809138 Smoothed R interaction (validation) None\n",
      "epoch : 88: train loss: 0.5689120529166553 Smoothed R interaction (validation) None\n",
      "epoch : 89: train loss: 0.5638057871713626 Smoothed R interaction (validation) None\n",
      "epoch : 90: train loss: 0.5595343601423671 Smoothed R interaction (validation) None\n",
      "epoch : 91: train loss: 0.5597255186480556 Smoothed R interaction (validation) None\n",
      "epoch : 92: train loss: 0.5579643645893658 Smoothed R interaction (validation) None\n",
      "epoch : 93: train loss: 0.553945202615264 Smoothed R interaction (validation) None\n",
      "epoch : 94: train loss: 0.5512479346968482 Smoothed R interaction (validation) None\n",
      "epoch : 95: train loss: 0.550104428722773 Smoothed R interaction (validation) None\n",
      "epoch : 96: train loss: 0.5435076265679891 Smoothed R interaction (validation) None\n",
      "epoch : 97: train loss: 0.5433634984110135 Smoothed R interaction (validation) None\n",
      "epoch : 98: train loss: 0.538637537338825 Smoothed R interaction (validation) None\n",
      "epoch : 99: train loss: 0.5377207571923807 Smoothed R interaction (validation) None\n"
     ]
    }
   ],
   "source": [
    "# rna-seq model\n",
    "\n",
    "_, rna_model = scripts.train_model(config, torch.utils.data.ConcatDataset([rna_train_dataset, rna_validation_dataset]), None, use_momentum=False)\n",
    "device = torch.device(config[\"env\"][\"device\"])\n",
    "metrics = torchmetrics.MetricTracker(torchmetrics.MetricCollection(\n",
    "    {\"R_cellwise_residuals\":scripts.GroupwiseMetric(metric=torchmetrics.functional.pearson_corrcoef,\n",
    "                          grouping=\"drugs\",\n",
    "                          average=\"macro\",\n",
    "                          residualize=True),\n",
    "    \"R_cellwise\":scripts.GroupwiseMetric(metric=torchmetrics.functional.pearson_corrcoef,\n",
    "                          grouping=\"cell_lines\",\n",
    "                          average=\"macro\",\n",
    "                          residualize=False),\n",
    "    \"MSE\":torchmetrics.MeanSquaredError()}))\n",
    "metrics.to(device)\n",
    "rna_test_dataloader = torch.utils.data.DataLoader(rna_test_dataset,\n",
    "                                       batch_size=config[\"optimizer\"][\"batch_size\"],\n",
    "                                       drop_last=False,\n",
    "                                      shuffle=False,pin_memory=True)"
   ]
  },
  {
   "cell_type": "code",
   "execution_count": 12,
   "id": "6163212d-ff3c-4400-9356-67a3415dd3a1",
   "metadata": {},
   "outputs": [
    {
     "name": "stderr",
     "output_type": "stream",
     "text": [
      "/work/kim14/project_work/scripts/models.py:69: UserWarning: The use of `x.T` on tensors of dimension other than 2 to reverse their shape is deprecated and it will throw an error in a future release. Consider `x.mT` to transpose batches of matrices or `x.permute(*torch.arange(x.ndim - 1, -1, -1))` to reverse the dimensions of a tensor. (Triggered internally at ../aten/src/ATen/native/TensorShape.cpp:3683.)\n",
      "  return torch.linalg.solve(A, Xy).T\n"
     ]
    },
    {
     "name": "stdout",
     "output_type": "stream",
     "text": [
      "Predictions saved to: results/pred_baseline_rnaseq_20241206_18:25:44_b6ac866c-ead5-41d3-9dd3-30a418937e67.csv\n",
      "Only rna-seq model: {'MSE': 1.795264482498169, 'R_cellwise': 0.8906934857368469, 'R_cellwise_residuals': 0.33360373973846436}\n"
     ]
    }
   ],
   "source": [
    "rna_final_metrics = scripts.evaluate_step(rna_model, rna_test_dataloader, metrics, device, save_predictions = True, model_name = \"baseline\", dataset_name = \"rnaseq\")\n",
    "print(f\"Only rna-seq model: {rna_final_metrics}\")"
   ]
  },
  {
   "cell_type": "code",
   "execution_count": 18,
   "id": "1531f057-892f-4432-bda4-564a382aa96f",
   "metadata": {},
   "outputs": [
    {
     "data": {
      "text/html": [
       "<div>\n",
       "<style scoped>\n",
       "    .dataframe tbody tr th:only-of-type {\n",
       "        vertical-align: middle;\n",
       "    }\n",
       "\n",
       "    .dataframe tbody tr th {\n",
       "        vertical-align: top;\n",
       "    }\n",
       "\n",
       "    .dataframe thead th {\n",
       "        text-align: right;\n",
       "    }\n",
       "</style>\n",
       "<table border=\"1\" class=\"dataframe\">\n",
       "  <thead>\n",
       "    <tr style=\"text-align: right;\">\n",
       "      <th></th>\n",
       "      <th>MSE</th>\n",
       "      <th>R_cellwise</th>\n",
       "      <th>R_cellwise_residuals</th>\n",
       "      <th>Model</th>\n",
       "      <th>Time</th>\n",
       "    </tr>\n",
       "  </thead>\n",
       "  <tbody>\n",
       "    <tr>\n",
       "      <th>1</th>\n",
       "      <td>1.795264</td>\n",
       "      <td>0.890693</td>\n",
       "      <td>0.333604</td>\n",
       "      <td>baseline_rnaseq</td>\n",
       "      <td>20241206_19:25</td>\n",
       "    </tr>\n",
       "  </tbody>\n",
       "</table>\n",
       "</div>"
      ],
      "text/plain": [
       "        MSE  R_cellwise  R_cellwise_residuals            Model            Time\n",
       "1  1.795264    0.890693              0.333604  baseline_rnaseq  20241206_19:25"
      ]
     },
     "execution_count": 18,
     "metadata": {},
     "output_type": "execute_result"
    }
   ],
   "source": [
    "from datetime import datetime\n",
    "\n",
    "result = rna_final_metrics\n",
    "\n",
    "model_name = \"baseline_rnaseq\"\n",
    "result[\"Model\"] = model_name\n",
    "time = datetime.now().strftime(\"%Y%m%d_%H:%M\")\n",
    "result[\"Time\"] = time\n",
    "\n",
    "result_df = pd.DataFrame([result])\n",
    "\n",
    "ev_table = pd.read_csv(\"results/evalutation_table.csv\")\n",
    "ev_table = pd.concat([ev_table, result_df], ignore_index=True)\n",
    "ev_table = ev_table.drop_duplicates(subset=[\"Model\"],keep = \"last\")\n",
    "ev_table.head()"
   ]
  },
  {
   "cell_type": "code",
   "execution_count": 19,
   "id": "0619db2b-d512-476a-954f-c5dab179e34e",
   "metadata": {},
   "outputs": [],
   "source": [
    "result_df.to_csv(\"results/evalutation_table.csv\", index = False)\n",
    "#ev_table.to_csv(\"results/evalutation_table.csv\", index = False)"
   ]
  },
  {
   "cell_type": "code",
   "execution_count": null,
   "id": "7f2306d3-8dec-480c-9959-6e07e9667d9d",
   "metadata": {},
   "outputs": [],
   "source": []
  }
 ],
 "metadata": {
  "kernelspec": {
   "display_name": "Python 3 (ipykernel)",
   "language": "python",
   "name": "python3"
  },
  "language_info": {
   "codemirror_mode": {
    "name": "ipython",
    "version": 3
   },
   "file_extension": ".py",
   "mimetype": "text/x-python",
   "name": "python",
   "nbconvert_exporter": "python",
   "pygments_lexer": "ipython3",
   "version": "3.11.7"
  }
 },
 "nbformat": 4,
 "nbformat_minor": 5
}
