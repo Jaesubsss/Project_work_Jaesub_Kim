{
 "cells": [
  {
   "cell_type": "code",
   "execution_count": 1,
   "id": "80cd2024-84bc-4933-8569-54ae9cda9ee4",
   "metadata": {},
   "outputs": [],
   "source": [
    "import pandas as pd\n",
    "import numpy as np\n",
    "import urllib\n",
    "import os\n",
    "import zipfile\n",
    "from sklearn.linear_model import Ridge\n",
    "from sklearn.model_selection import GridSearchCV\n",
    "from copy import deepcopy\n",
    "import tqdm"
   ]
  },
  {
   "cell_type": "code",
   "execution_count": 2,
   "id": "5fe39472-37ce-4b70-aafe-d7cb4a2ff462",
   "metadata": {},
   "outputs": [],
   "source": [
    "def make_dir_if_not_present(folder):\n",
    "    if os.path.exists(folder):\n",
    "        pass\n",
    "    else:\n",
    "        os.mkdir(folder)"
   ]
  },
  {
   "cell_type": "code",
   "execution_count": 3,
   "id": "9fb62ed8-86f3-428e-8076-4f59cddf1007",
   "metadata": {},
   "outputs": [],
   "source": [
    "make_dir_if_not_present(\"data\")\n",
    "make_dir_if_not_present(\"results\")\n",
    "make_dir_if_not_present(\"figures\")\n",
    "make_dir_if_not_present(\"scripts\")\n",
    "make_dir_if_not_present(\"trained_models\")\n",
    "make_dir_if_not_present(\"studies\")"
   ]
  },
  {
   "cell_type": "code",
   "execution_count": 4,
   "id": "fe7e25ff-f255-4f8f-9c96-2bcdda3b7611",
   "metadata": {},
   "outputs": [],
   "source": [
    "def download_if_not_present(url, destination):\n",
    "    if os.path.exists(destination):\n",
    "        pass\n",
    "    else:\n",
    "        urllib.request.urlretrieve(url, destination)"
   ]
  },
  {
   "cell_type": "code",
   "execution_count": 5,
   "id": "9cdb3ae3-d2d8-4716-9777-a0253aae3f47",
   "metadata": {},
   "outputs": [
    {
     "ename": "URLError",
     "evalue": "<urlopen error [Errno 110] Connection timed out>",
     "output_type": "error",
     "traceback": [
      "\u001b[0;31m---------------------------------------------------------------------------\u001b[0m",
      "\u001b[0;31mTimeoutError\u001b[0m                              Traceback (most recent call last)",
      "File \u001b[0;32m/srv/software/easybuild/software/Anaconda3/2024.02-1/lib/python3.11/urllib/request.py:1348\u001b[0m, in \u001b[0;36mAbstractHTTPHandler.do_open\u001b[0;34m(self, http_class, req, **http_conn_args)\u001b[0m\n\u001b[1;32m   1347\u001b[0m \u001b[38;5;28;01mtry\u001b[39;00m:\n\u001b[0;32m-> 1348\u001b[0m     h\u001b[38;5;241m.\u001b[39mrequest(req\u001b[38;5;241m.\u001b[39mget_method(), req\u001b[38;5;241m.\u001b[39mselector, req\u001b[38;5;241m.\u001b[39mdata, headers,\n\u001b[1;32m   1349\u001b[0m               encode_chunked\u001b[38;5;241m=\u001b[39mreq\u001b[38;5;241m.\u001b[39mhas_header(\u001b[38;5;124m'\u001b[39m\u001b[38;5;124mTransfer-encoding\u001b[39m\u001b[38;5;124m'\u001b[39m))\n\u001b[1;32m   1350\u001b[0m \u001b[38;5;28;01mexcept\u001b[39;00m \u001b[38;5;167;01mOSError\u001b[39;00m \u001b[38;5;28;01mas\u001b[39;00m err: \u001b[38;5;66;03m# timeout error\u001b[39;00m\n",
      "File \u001b[0;32m/srv/software/easybuild/software/Anaconda3/2024.02-1/lib/python3.11/http/client.py:1294\u001b[0m, in \u001b[0;36mHTTPConnection.request\u001b[0;34m(self, method, url, body, headers, encode_chunked)\u001b[0m\n\u001b[1;32m   1293\u001b[0m \u001b[38;5;250m\u001b[39m\u001b[38;5;124;03m\"\"\"Send a complete request to the server.\"\"\"\u001b[39;00m\n\u001b[0;32m-> 1294\u001b[0m \u001b[38;5;28mself\u001b[39m\u001b[38;5;241m.\u001b[39m_send_request(method, url, body, headers, encode_chunked)\n",
      "File \u001b[0;32m/srv/software/easybuild/software/Anaconda3/2024.02-1/lib/python3.11/http/client.py:1340\u001b[0m, in \u001b[0;36mHTTPConnection._send_request\u001b[0;34m(self, method, url, body, headers, encode_chunked)\u001b[0m\n\u001b[1;32m   1339\u001b[0m     body \u001b[38;5;241m=\u001b[39m _encode(body, \u001b[38;5;124m'\u001b[39m\u001b[38;5;124mbody\u001b[39m\u001b[38;5;124m'\u001b[39m)\n\u001b[0;32m-> 1340\u001b[0m \u001b[38;5;28mself\u001b[39m\u001b[38;5;241m.\u001b[39mendheaders(body, encode_chunked\u001b[38;5;241m=\u001b[39mencode_chunked)\n",
      "File \u001b[0;32m/srv/software/easybuild/software/Anaconda3/2024.02-1/lib/python3.11/http/client.py:1289\u001b[0m, in \u001b[0;36mHTTPConnection.endheaders\u001b[0;34m(self, message_body, encode_chunked)\u001b[0m\n\u001b[1;32m   1288\u001b[0m     \u001b[38;5;28;01mraise\u001b[39;00m CannotSendHeader()\n\u001b[0;32m-> 1289\u001b[0m \u001b[38;5;28mself\u001b[39m\u001b[38;5;241m.\u001b[39m_send_output(message_body, encode_chunked\u001b[38;5;241m=\u001b[39mencode_chunked)\n",
      "File \u001b[0;32m/srv/software/easybuild/software/Anaconda3/2024.02-1/lib/python3.11/http/client.py:1048\u001b[0m, in \u001b[0;36mHTTPConnection._send_output\u001b[0;34m(self, message_body, encode_chunked)\u001b[0m\n\u001b[1;32m   1047\u001b[0m \u001b[38;5;28;01mdel\u001b[39;00m \u001b[38;5;28mself\u001b[39m\u001b[38;5;241m.\u001b[39m_buffer[:]\n\u001b[0;32m-> 1048\u001b[0m \u001b[38;5;28mself\u001b[39m\u001b[38;5;241m.\u001b[39msend(msg)\n\u001b[1;32m   1050\u001b[0m \u001b[38;5;28;01mif\u001b[39;00m message_body \u001b[38;5;129;01mis\u001b[39;00m \u001b[38;5;129;01mnot\u001b[39;00m \u001b[38;5;28;01mNone\u001b[39;00m:\n\u001b[1;32m   1051\u001b[0m \n\u001b[1;32m   1052\u001b[0m     \u001b[38;5;66;03m# create a consistent interface to message_body\u001b[39;00m\n",
      "File \u001b[0;32m/srv/software/easybuild/software/Anaconda3/2024.02-1/lib/python3.11/http/client.py:986\u001b[0m, in \u001b[0;36mHTTPConnection.send\u001b[0;34m(self, data)\u001b[0m\n\u001b[1;32m    985\u001b[0m \u001b[38;5;28;01mif\u001b[39;00m \u001b[38;5;28mself\u001b[39m\u001b[38;5;241m.\u001b[39mauto_open:\n\u001b[0;32m--> 986\u001b[0m     \u001b[38;5;28mself\u001b[39m\u001b[38;5;241m.\u001b[39mconnect()\n\u001b[1;32m    987\u001b[0m \u001b[38;5;28;01melse\u001b[39;00m:\n",
      "File \u001b[0;32m/srv/software/easybuild/software/Anaconda3/2024.02-1/lib/python3.11/http/client.py:1459\u001b[0m, in \u001b[0;36mHTTPSConnection.connect\u001b[0;34m(self)\u001b[0m\n\u001b[1;32m   1457\u001b[0m \u001b[38;5;124m\"\u001b[39m\u001b[38;5;124mConnect to a host on a given (SSL) port.\u001b[39m\u001b[38;5;124m\"\u001b[39m\n\u001b[0;32m-> 1459\u001b[0m \u001b[38;5;28msuper\u001b[39m()\u001b[38;5;241m.\u001b[39mconnect()\n\u001b[1;32m   1461\u001b[0m \u001b[38;5;28;01mif\u001b[39;00m \u001b[38;5;28mself\u001b[39m\u001b[38;5;241m.\u001b[39m_tunnel_host:\n",
      "File \u001b[0;32m/srv/software/easybuild/software/Anaconda3/2024.02-1/lib/python3.11/http/client.py:952\u001b[0m, in \u001b[0;36mHTTPConnection.connect\u001b[0;34m(self)\u001b[0m\n\u001b[1;32m    951\u001b[0m sys\u001b[38;5;241m.\u001b[39maudit(\u001b[38;5;124m\"\u001b[39m\u001b[38;5;124mhttp.client.connect\u001b[39m\u001b[38;5;124m\"\u001b[39m, \u001b[38;5;28mself\u001b[39m, \u001b[38;5;28mself\u001b[39m\u001b[38;5;241m.\u001b[39mhost, \u001b[38;5;28mself\u001b[39m\u001b[38;5;241m.\u001b[39mport)\n\u001b[0;32m--> 952\u001b[0m \u001b[38;5;28mself\u001b[39m\u001b[38;5;241m.\u001b[39msock \u001b[38;5;241m=\u001b[39m \u001b[38;5;28mself\u001b[39m\u001b[38;5;241m.\u001b[39m_create_connection(\n\u001b[1;32m    953\u001b[0m     (\u001b[38;5;28mself\u001b[39m\u001b[38;5;241m.\u001b[39mhost,\u001b[38;5;28mself\u001b[39m\u001b[38;5;241m.\u001b[39mport), \u001b[38;5;28mself\u001b[39m\u001b[38;5;241m.\u001b[39mtimeout, \u001b[38;5;28mself\u001b[39m\u001b[38;5;241m.\u001b[39msource_address)\n\u001b[1;32m    954\u001b[0m \u001b[38;5;66;03m# Might fail in OSs that don't implement TCP_NODELAY\u001b[39;00m\n",
      "File \u001b[0;32m/srv/software/easybuild/software/Anaconda3/2024.02-1/lib/python3.11/socket.py:851\u001b[0m, in \u001b[0;36mcreate_connection\u001b[0;34m(address, timeout, source_address, all_errors)\u001b[0m\n\u001b[1;32m    850\u001b[0m \u001b[38;5;28;01mif\u001b[39;00m \u001b[38;5;129;01mnot\u001b[39;00m all_errors:\n\u001b[0;32m--> 851\u001b[0m     \u001b[38;5;28;01mraise\u001b[39;00m exceptions[\u001b[38;5;241m0\u001b[39m]\n\u001b[1;32m    852\u001b[0m \u001b[38;5;28;01mraise\u001b[39;00m ExceptionGroup(\u001b[38;5;124m\"\u001b[39m\u001b[38;5;124mcreate_connection failed\u001b[39m\u001b[38;5;124m\"\u001b[39m, exceptions)\n",
      "File \u001b[0;32m/srv/software/easybuild/software/Anaconda3/2024.02-1/lib/python3.11/socket.py:836\u001b[0m, in \u001b[0;36mcreate_connection\u001b[0;34m(address, timeout, source_address, all_errors)\u001b[0m\n\u001b[1;32m    835\u001b[0m     sock\u001b[38;5;241m.\u001b[39mbind(source_address)\n\u001b[0;32m--> 836\u001b[0m sock\u001b[38;5;241m.\u001b[39mconnect(sa)\n\u001b[1;32m    837\u001b[0m \u001b[38;5;66;03m# Break explicitly a reference cycle\u001b[39;00m\n",
      "\u001b[0;31mTimeoutError\u001b[0m: [Errno 110] Connection timed out",
      "\nDuring handling of the above exception, another exception occurred:\n",
      "\u001b[0;31mURLError\u001b[0m                                  Traceback (most recent call last)",
      "Cell \u001b[0;32mIn[5], line 2\u001b[0m\n\u001b[1;32m      1\u001b[0m \u001b[38;5;66;03m# Download GDSC1 and GDSC2\u001b[39;00m\n\u001b[0;32m----> 2\u001b[0m download_if_not_present(\u001b[38;5;124m\"\u001b[39m\u001b[38;5;124mhttps://cog.sanger.ac.uk/cancerrxgene/GDSC_release8.5/GDSC1_fitted_dose_response_27Oct23.xlsx\u001b[39m\u001b[38;5;124m\"\u001b[39m,\n\u001b[1;32m      3\u001b[0m                        \u001b[38;5;124m\"\u001b[39m\u001b[38;5;124mdata/GDSC1.xlsx\u001b[39m\u001b[38;5;124m\"\u001b[39m)\n\u001b[1;32m      4\u001b[0m download_if_not_present(\u001b[38;5;124m\"\u001b[39m\u001b[38;5;124mhttps://cog.sanger.ac.uk/cancerrxgene/GDSC_release8.5/GDSC2_fitted_dose_response_27Oct23.xlsx\u001b[39m\u001b[38;5;124m\"\u001b[39m,\n\u001b[1;32m      5\u001b[0m                        \u001b[38;5;124m\"\u001b[39m\u001b[38;5;124mdata/GDSC2.xlsx\u001b[39m\u001b[38;5;124m\"\u001b[39m)\n\u001b[1;32m      7\u001b[0m \u001b[38;5;66;03m# Download compound and cell-line identifiers\u001b[39;00m\n",
      "Cell \u001b[0;32mIn[4], line 5\u001b[0m, in \u001b[0;36mdownload_if_not_present\u001b[0;34m(url, destination)\u001b[0m\n\u001b[1;32m      3\u001b[0m     \u001b[38;5;28;01mpass\u001b[39;00m\n\u001b[1;32m      4\u001b[0m \u001b[38;5;28;01melse\u001b[39;00m:\n\u001b[0;32m----> 5\u001b[0m     urllib\u001b[38;5;241m.\u001b[39mrequest\u001b[38;5;241m.\u001b[39murlretrieve(url, destination)\n",
      "File \u001b[0;32m/srv/software/easybuild/software/Anaconda3/2024.02-1/lib/python3.11/urllib/request.py:241\u001b[0m, in \u001b[0;36murlretrieve\u001b[0;34m(url, filename, reporthook, data)\u001b[0m\n\u001b[1;32m    224\u001b[0m \u001b[38;5;250m\u001b[39m\u001b[38;5;124;03m\"\"\"\u001b[39;00m\n\u001b[1;32m    225\u001b[0m \u001b[38;5;124;03mRetrieve a URL into a temporary location on disk.\u001b[39;00m\n\u001b[1;32m    226\u001b[0m \n\u001b[0;32m   (...)\u001b[0m\n\u001b[1;32m    237\u001b[0m \u001b[38;5;124;03mdata file as well as the resulting HTTPMessage object.\u001b[39;00m\n\u001b[1;32m    238\u001b[0m \u001b[38;5;124;03m\"\"\"\u001b[39;00m\n\u001b[1;32m    239\u001b[0m url_type, path \u001b[38;5;241m=\u001b[39m _splittype(url)\n\u001b[0;32m--> 241\u001b[0m \u001b[38;5;28;01mwith\u001b[39;00m contextlib\u001b[38;5;241m.\u001b[39mclosing(urlopen(url, data)) \u001b[38;5;28;01mas\u001b[39;00m fp:\n\u001b[1;32m    242\u001b[0m     headers \u001b[38;5;241m=\u001b[39m fp\u001b[38;5;241m.\u001b[39minfo()\n\u001b[1;32m    244\u001b[0m     \u001b[38;5;66;03m# Just return the local path and the \"headers\" for file://\u001b[39;00m\n\u001b[1;32m    245\u001b[0m     \u001b[38;5;66;03m# URLs. No sense in performing a copy unless requested.\u001b[39;00m\n",
      "File \u001b[0;32m/srv/software/easybuild/software/Anaconda3/2024.02-1/lib/python3.11/urllib/request.py:216\u001b[0m, in \u001b[0;36murlopen\u001b[0;34m(url, data, timeout, cafile, capath, cadefault, context)\u001b[0m\n\u001b[1;32m    214\u001b[0m \u001b[38;5;28;01melse\u001b[39;00m:\n\u001b[1;32m    215\u001b[0m     opener \u001b[38;5;241m=\u001b[39m _opener\n\u001b[0;32m--> 216\u001b[0m \u001b[38;5;28;01mreturn\u001b[39;00m opener\u001b[38;5;241m.\u001b[39mopen(url, data, timeout)\n",
      "File \u001b[0;32m/srv/software/easybuild/software/Anaconda3/2024.02-1/lib/python3.11/urllib/request.py:519\u001b[0m, in \u001b[0;36mOpenerDirector.open\u001b[0;34m(self, fullurl, data, timeout)\u001b[0m\n\u001b[1;32m    516\u001b[0m     req \u001b[38;5;241m=\u001b[39m meth(req)\n\u001b[1;32m    518\u001b[0m sys\u001b[38;5;241m.\u001b[39maudit(\u001b[38;5;124m'\u001b[39m\u001b[38;5;124murllib.Request\u001b[39m\u001b[38;5;124m'\u001b[39m, req\u001b[38;5;241m.\u001b[39mfull_url, req\u001b[38;5;241m.\u001b[39mdata, req\u001b[38;5;241m.\u001b[39mheaders, req\u001b[38;5;241m.\u001b[39mget_method())\n\u001b[0;32m--> 519\u001b[0m response \u001b[38;5;241m=\u001b[39m \u001b[38;5;28mself\u001b[39m\u001b[38;5;241m.\u001b[39m_open(req, data)\n\u001b[1;32m    521\u001b[0m \u001b[38;5;66;03m# post-process response\u001b[39;00m\n\u001b[1;32m    522\u001b[0m meth_name \u001b[38;5;241m=\u001b[39m protocol\u001b[38;5;241m+\u001b[39m\u001b[38;5;124m\"\u001b[39m\u001b[38;5;124m_response\u001b[39m\u001b[38;5;124m\"\u001b[39m\n",
      "File \u001b[0;32m/srv/software/easybuild/software/Anaconda3/2024.02-1/lib/python3.11/urllib/request.py:536\u001b[0m, in \u001b[0;36mOpenerDirector._open\u001b[0;34m(self, req, data)\u001b[0m\n\u001b[1;32m    533\u001b[0m     \u001b[38;5;28;01mreturn\u001b[39;00m result\n\u001b[1;32m    535\u001b[0m protocol \u001b[38;5;241m=\u001b[39m req\u001b[38;5;241m.\u001b[39mtype\n\u001b[0;32m--> 536\u001b[0m result \u001b[38;5;241m=\u001b[39m \u001b[38;5;28mself\u001b[39m\u001b[38;5;241m.\u001b[39m_call_chain(\u001b[38;5;28mself\u001b[39m\u001b[38;5;241m.\u001b[39mhandle_open, protocol, protocol \u001b[38;5;241m+\u001b[39m\n\u001b[1;32m    537\u001b[0m                           \u001b[38;5;124m'\u001b[39m\u001b[38;5;124m_open\u001b[39m\u001b[38;5;124m'\u001b[39m, req)\n\u001b[1;32m    538\u001b[0m \u001b[38;5;28;01mif\u001b[39;00m result:\n\u001b[1;32m    539\u001b[0m     \u001b[38;5;28;01mreturn\u001b[39;00m result\n",
      "File \u001b[0;32m/srv/software/easybuild/software/Anaconda3/2024.02-1/lib/python3.11/urllib/request.py:496\u001b[0m, in \u001b[0;36mOpenerDirector._call_chain\u001b[0;34m(self, chain, kind, meth_name, *args)\u001b[0m\n\u001b[1;32m    494\u001b[0m \u001b[38;5;28;01mfor\u001b[39;00m handler \u001b[38;5;129;01min\u001b[39;00m handlers:\n\u001b[1;32m    495\u001b[0m     func \u001b[38;5;241m=\u001b[39m \u001b[38;5;28mgetattr\u001b[39m(handler, meth_name)\n\u001b[0;32m--> 496\u001b[0m     result \u001b[38;5;241m=\u001b[39m func(\u001b[38;5;241m*\u001b[39margs)\n\u001b[1;32m    497\u001b[0m     \u001b[38;5;28;01mif\u001b[39;00m result \u001b[38;5;129;01mis\u001b[39;00m \u001b[38;5;129;01mnot\u001b[39;00m \u001b[38;5;28;01mNone\u001b[39;00m:\n\u001b[1;32m    498\u001b[0m         \u001b[38;5;28;01mreturn\u001b[39;00m result\n",
      "File \u001b[0;32m/srv/software/easybuild/software/Anaconda3/2024.02-1/lib/python3.11/urllib/request.py:1391\u001b[0m, in \u001b[0;36mHTTPSHandler.https_open\u001b[0;34m(self, req)\u001b[0m\n\u001b[1;32m   1390\u001b[0m \u001b[38;5;28;01mdef\u001b[39;00m \u001b[38;5;21mhttps_open\u001b[39m(\u001b[38;5;28mself\u001b[39m, req):\n\u001b[0;32m-> 1391\u001b[0m     \u001b[38;5;28;01mreturn\u001b[39;00m \u001b[38;5;28mself\u001b[39m\u001b[38;5;241m.\u001b[39mdo_open(http\u001b[38;5;241m.\u001b[39mclient\u001b[38;5;241m.\u001b[39mHTTPSConnection, req,\n\u001b[1;32m   1392\u001b[0m         context\u001b[38;5;241m=\u001b[39m\u001b[38;5;28mself\u001b[39m\u001b[38;5;241m.\u001b[39m_context, check_hostname\u001b[38;5;241m=\u001b[39m\u001b[38;5;28mself\u001b[39m\u001b[38;5;241m.\u001b[39m_check_hostname)\n",
      "File \u001b[0;32m/srv/software/easybuild/software/Anaconda3/2024.02-1/lib/python3.11/urllib/request.py:1351\u001b[0m, in \u001b[0;36mAbstractHTTPHandler.do_open\u001b[0;34m(self, http_class, req, **http_conn_args)\u001b[0m\n\u001b[1;32m   1348\u001b[0m         h\u001b[38;5;241m.\u001b[39mrequest(req\u001b[38;5;241m.\u001b[39mget_method(), req\u001b[38;5;241m.\u001b[39mselector, req\u001b[38;5;241m.\u001b[39mdata, headers,\n\u001b[1;32m   1349\u001b[0m                   encode_chunked\u001b[38;5;241m=\u001b[39mreq\u001b[38;5;241m.\u001b[39mhas_header(\u001b[38;5;124m'\u001b[39m\u001b[38;5;124mTransfer-encoding\u001b[39m\u001b[38;5;124m'\u001b[39m))\n\u001b[1;32m   1350\u001b[0m     \u001b[38;5;28;01mexcept\u001b[39;00m \u001b[38;5;167;01mOSError\u001b[39;00m \u001b[38;5;28;01mas\u001b[39;00m err: \u001b[38;5;66;03m# timeout error\u001b[39;00m\n\u001b[0;32m-> 1351\u001b[0m         \u001b[38;5;28;01mraise\u001b[39;00m URLError(err)\n\u001b[1;32m   1352\u001b[0m     r \u001b[38;5;241m=\u001b[39m h\u001b[38;5;241m.\u001b[39mgetresponse()\n\u001b[1;32m   1353\u001b[0m \u001b[38;5;28;01mexcept\u001b[39;00m:\n",
      "\u001b[0;31mURLError\u001b[0m: <urlopen error [Errno 110] Connection timed out>"
     ]
    }
   ],
   "source": [
    "# Download GDSC1 and GDSC2\n",
    "download_if_not_present(\"https://cog.sanger.ac.uk/cancerrxgene/GDSC_release8.5/GDSC1_fitted_dose_response_27Oct23.xlsx\",\n",
    "                       \"data/GDSC1.xlsx\")\n",
    "download_if_not_present(\"https://cog.sanger.ac.uk/cancerrxgene/GDSC_release8.5/GDSC2_fitted_dose_response_27Oct23.xlsx\",\n",
    "                       \"data/GDSC2.xlsx\")\n",
    "\n",
    "# Download compound and cell-line identifiers\n",
    "download_if_not_present(\"https://cog.sanger.ac.uk/cancerrxgene/GDSC_release8.5/Cell_Lines_Details.xlsx\",\n",
    "                       \"data/Cell_Lines_Details.xlsx\")\n",
    "download_if_not_present(\"https://cog.sanger.ac.uk/cancerrxgene/GDSC_release8.5/screened_compounds_rel_8.5.csv\",\n",
    "                       \"data/screened_compounds_rel_8.5.csv\")\n",
    "download_if_not_present(\"https://cog.sanger.ac.uk/cmp/download/model_list_20240110.csv\",\n",
    "                       \"data/cell_line_annotations.csv\")\n",
    "\n",
    "# Download omics features\n",
    "download_if_not_present(\"https://cog.sanger.ac.uk/cmp/download/mutations_all_20230202.zip\",\n",
    "                       \"data/raw_mutations.zip\")\n",
    "\n",
    "download_if_not_present(\"https://cog.sanger.ac.uk/cmp/download/rnaseq_all_20220624.zip\",\n",
    "                       \"data/rnaseq.zip\")\n",
    "\n",
    "download_if_not_present(\"https://cog.sanger.ac.uk/cmp/download/Proteomics_20221214.zip\",\n",
    "                       \"data/proteomics.zip\")\n",
    "\n",
    "download_if_not_present(\"https://www.cancerrxgene.org/gdsc1000/GDSC1000_WebResources//Data/BEMs/CellLines/CellLines_METH_BEMs.zip\",\n",
    "                       \"data/methylation.zip\")\n",
    "\n",
    "download_if_not_present(\"https://cog.sanger.ac.uk/cmp/download/driver_genes_20221018.csv\",\n",
    "                       \"data/driver_genes.csv\")\n",
    "download_if_not_present(\"https://cog.sanger.ac.uk/cmp/download/driver_mutations_20221208.csv\",\n",
    "                       \"data/driver_mutations.csv\")"
   ]
  },
  {
   "cell_type": "code",
   "execution_count": null,
   "id": "37324c55-551f-4a22-973a-6135ea0a78c9",
   "metadata": {},
   "outputs": [],
   "source": [
    "# Preprocessing mutations. \n",
    "# All mutations are treated simply as loss of function without accounting for differences, which might not be accurate\n",
    "mutations = pd.read_csv(\"data/raw_mutations.zip\")\n",
    "mutations_filtered = mutations.query(\"coding == True & effect != 'silent'\").loc[:, [\"gene_symbol\", \"model_id\"]].assign(mutated=1)\n",
    "mutations_matrix = mutations_filtered.groupby([\"model_id\", \"gene_symbol\"]).max().unstack().fillna(0)\n",
    "mutations_matrix.to_csv(\"data/binary_mutations.csv\")"
   ]
  },
  {
   "cell_type": "markdown",
   "id": "10b7f7b4",
   "metadata": {},
   "source": [
    "mutant 데이터를 pre-processing하는 과정이다. 모든 돌연변이를 단순히 \"기능 상실\"로 취급하고 있으며, 각 모델에서 특정 유전자에 돌연변이가 있는지 여부를 binary 형식으로 변환해 저장한다. \n",
    "\n",
    "1. \n",
    "   * 여기서 `coding == True`는 coding region에 속하는 mutation만 선택한다. `effect != 'silent'`는 silent mutation이 아닌 경우에만 선택한다.     \n",
    "   * 이 두가지 필터연산을 통해 mutation만 골라내고, 이어진 `loc[:, [\"gene_symbol\", \"model_id\"]]`는 필터링된 데이터에서 `gene_symbol`과 `model_id` column만 선택한다.     \n",
    "   * 이제 `assign(mutated=1)`를 통해 새로운 열 `mutated`를 추가함과 동시에 값 1을 할당한다. \n",
    "2. \n",
    "   * `groupby()`는 `model_id`와 `gene_symbol`의 항목 별로 데이터를 그룹화한다. 각 모델에서 특정 유전자에 돌연변이가 발생했는지 여부를 파악하는데에 유용하다. \n",
    "   * 이제 이렇게 그룹화된 데이터에서 `.max()`는 각 조합에서의 `mutated`값의 최댓값을 선택한다. 이는 동일한 모델과 유전자에서 여러 돌연변이가 발생할 수 있음을 고려하며, 돌연변이가 발생한 조합만 선택되게된다.    \n",
    "   * 이후 `.unstack()`은 `model_id`를 row, `gene_symbol`을 col로 하는 매트릭스로 변환하여 나타낸다. 이 결과로 각 모델에 대해 특정 유전자에서 돌연변이가 있었는지를 나타내는 binary matrix가 생성된다. 이렇게 생성된 매트릭스에 NA값이 존재할 수 있는데, `.fillna(0)`를 통해 NA값을 0으로 채워넣는다. \n",
    "\n",
    "이렇게 생성된 매트릭스는 `binary_mutation.csv`에 저장된다. \n"
   ]
  },
  {
   "cell_type": "code",
   "execution_count": null,
   "id": "88ede587-3b1c-47c6-8e73-3dca8ecc9321",
   "metadata": {},
   "outputs": [],
   "source": [
    "# Preprocessing proteometics\n",
    "zipf = zipfile.ZipFile(\"data/proteomics.zip\")\n",
    "zipf.extractall(\"data/\")\n",
    "protein_intensities = pd.read_csv(\"data/proteomics_all_20221214.csv\").groupby([ \"model_id\", \"uniprot_id\"])[\"protein_intensity\"].median().unstack()"
   ]
  },
  {
   "cell_type": "code",
   "execution_count": null,
   "id": "0a5482ef-f36c-42f4-8a1f-a0fe9989a44d",
   "metadata": {},
   "outputs": [],
   "source": [
    "protein_filtered = protein_intensities.loc[:, protein_intensities.isna().sum(0)< 10] # filter proteins that have a low number of missing values\n",
    "# 결측치가 10개 이하인 protein만 사용"
   ]
  },
  {
   "cell_type": "code",
   "execution_count": null,
   "id": "9e56d30b-2472-4194-856e-22c1819b3bef",
   "metadata": {},
   "outputs": [],
   "source": [
    "protein_filtered"
   ]
  },
  {
   "cell_type": "code",
   "execution_count": null,
   "id": "878e2039-8dcb-4234-9fcb-772ed179228e",
   "metadata": {},
   "outputs": [],
   "source": [
    "proteins = protein_filtered.columns"
   ]
  },
  {
   "cell_type": "code",
   "execution_count": null,
   "id": "a1493bc7-d95c-4c6c-94f7-1b17d20f0e98",
   "metadata": {},
   "outputs": [],
   "source": [
    "protein_input = deepcopy(protein_filtered)"
   ]
  },
  {
   "cell_type": "code",
   "execution_count": null,
   "id": "7ed7b5e2-227f-49cf-aeed-df47a09c6857",
   "metadata": {},
   "outputs": [],
   "source": [
    "# Note that for this inputation the pipeline leaks at several points\n",
    "protein_filtered_copy = deepcopy(protein_filtered)\n",
    "protein_input = deepcopy(protein_filtered)\n",
    "medians = protein_filtered.median()\n",
    "protein_filtered_copy = protein_filtered.fillna(medians)\n",
    "\n",
    "for protein in tqdm.tqdm(proteins): \n",
    "    target_inputation = protein_filtered.loc[:, protein] # 1\n",
    "    if target_inputation.isna().sum() > 0: # 2\n",
    "        X = protein_filtered_copy.loc[~target_inputation.isna()]\n",
    "        X_input = protein_filtered_copy.loc[target_inputation.isna()]\n",
    "        y = X.loc[:, protein] # 3\n",
    "        X = X.drop(protein, axis=1)\n",
    "        grid = GridSearchCV(estimator = Ridge(), # 4\n",
    "                             param_grid = {\"alpha\": [0.1, 1, 100, 200, 500, 1000, 5000, 10000]},\n",
    "                             scoring = \"r2\",\n",
    "                             n_jobs = -1)\n",
    "        grid.fit(X, y)\n",
    "        rdg = Ridge(**grid.best_params_) # 5\n",
    "        rdg.fit(X, y)\n",
    "        y_input = rdg.predict(X_input.drop(protein, axis=1)) # 6\n",
    "        protein_input.loc[target_inputation.isna(), protein] = y_input\n",
    "protein_input.to_csv(\"data/proteomics.csv\") # 7"
   ]
  },
  {
   "cell_type": "markdown",
   "id": "c9b6c483",
   "metadata": {},
   "source": [
    "단백질 데이터를 기반으로 결측값을 보완(임퓨테이션)하는 과정에서 Ridge 회귀 모델을 사용한 방식입니다. 전체적인 흐름은 결측값을 포함한 데이터를 사용해 결측값을 예측하는 모델을 학습하고, 예측된 값을 채워넣는 방식으로 구성되어 있습니다.\n",
    "\n",
    "`medians = protein_filtered.median()`는 각 열에 대해 중앙값을 계산하고, `protein_filtered_copy`의 결측값을 중앙값으로 채워넣는다. \n",
    "\n",
    "`tqdm`은 파이썬에서 반복문 실행 시 progress를 표시해주는 라이브러리다. 작업의 진행률을 실시간으로 표시해준다.\n",
    "\n",
    "1. 각 단백질에 대해, `target_inputation = protein_filtered.loc[:, protein]`은 현재 단백질 열(col)을 선택하여 가져온다. \n",
    "2. 만약 선택된 행에 결측값이 하나라도 존재하면(`target_inputation.isna().sum() > 0`), 결측값이 없는 행을 X에(`protein_filtered_copy.loc[~target_inputation.isna()]`), 있는 행을 `X_input`에 넣는다(`protein_filtered_copy.loc[target_inputation.isna()]`).\n",
    "3. y는 해당 단백질의 값(결측값 제외!)을 저장하여 결측값 예측을 위해 종속변수로 사용되고, X는 현재 단백질을 제외한 나머지 단백질 데이터들로 독립변수로 사용된다. \n",
    "4. `GridSearchCV`를 사용해 Ridge Regression model에 대한 최적의 하이퍼파라미터 알파를 찾는다. 주어진 리스트에서 최적의 값을 선택한다. 성능평가는 r2로 측정한다. 이는 객체 `grid`에 대한 `fit`으로 실행된다. 다양한 알파를 가지고 여러번 모델을 학습하며, 가장 좋은걸 선택한다. \n",
    "5. `grid`가 찾아낸 최적의 파라미터를 이용해서 Ridge 모델인 `rdg`를 학습시킨다.\n",
    "6. 이후 결측값이 있는 단백질에 대해, rdg로 예측을 수행하여 채워넣는다. \n",
    "7. 반복 후, 저장! \n"
   ]
  },
  {
   "cell_type": "code",
   "execution_count": null,
   "id": "81df7cfd-8896-42e8-8f32-b447790c00f7",
   "metadata": {},
   "outputs": [],
   "source": [
    "# Preprocessing methylation\n",
    "zipf = zipfile.ZipFile(\"data/methylation.zip\")\n",
    "zipf.extractall(\"data/\")\n",
    "pd.read_csv(\"data/METH_CELLLINES_BEMs/PANCAN.txt\", sep = \"\\t\").to_csv(\"data/methylations.csv\")"
   ]
  },
  {
   "cell_type": "code",
   "execution_count": null,
   "id": "20667f3f-e625-4736-b136-e95b2b70c24d",
   "metadata": {},
   "outputs": [],
   "source": [
    "# Preprocessing expression\n",
    "zipf = zipfile.ZipFile(\"data/rnaseq.zip\")\n",
    "zipf.extractall(\"data/\")"
   ]
  },
  {
   "cell_type": "markdown",
   "id": "60ab3201",
   "metadata": {},
   "source": [
    "압축파일을 전부 풀어준다."
   ]
  },
  {
   "cell_type": "code",
   "execution_count": null,
   "id": "c1ba26c7-dd77-47d8-a694-5018c57df2c0",
   "metadata": {},
   "outputs": [],
   "source": [
    "rnaseq = pd.read_csv(\"data/rnaseq_read_count_20220624.csv\")"
   ]
  },
  {
   "cell_type": "code",
   "execution_count": null,
   "id": "463802f7-9e8f-4fdf-a598-92a31ea249ba",
   "metadata": {},
   "outputs": [],
   "source": [
    "rnaseq = rnaseq.iloc[4:, 1:].set_index(\"Unnamed: 1\")"
   ]
  },
  {
   "cell_type": "markdown",
   "id": "ec6615c1",
   "metadata": {},
   "source": [
    "1-3번 행은 데이터가 아닌 정보를 포함하고 있기 때문에, 4번 행부터 사용하고, 0번 열은 gene id를 나타내기 때문에, 1번 열부터 뜯어온다. 또한, 첫번째 열을 index로 설정한다. \n",
    "\n",
    "- `iloc`은 인덱싱 함수\n"
   ]
  },
  {
   "cell_type": "code",
   "execution_count": null,
   "id": "0c3aeb74-52b0-445c-b900-91d7655d6387",
   "metadata": {},
   "outputs": [],
   "source": [
    "rna_filtered = rnaseq.loc[rnaseq.isna().sum(1) == 0] # we remove genes with nans"
   ]
  },
  {
   "cell_type": "markdown",
   "id": "43c1a441",
   "metadata": {},
   "source": [
    "결측값이 없는 유전자만 남기는 필터링 작업. `isna().sum(1) == 0`는 각 행에 결측값이 없는 애들을 의미한다. 이런애들만 뽑아 모아서 filtered에 저장한다. "
   ]
  },
  {
   "cell_type": "code",
   "execution_count": null,
   "id": "14fb89e9-7cb5-4696-8705-87b6829f8bd5",
   "metadata": {},
   "outputs": [],
   "source": [
    "rna_filtered = rna_filtered.replace(\" [0]*\", \"\", regex = True)"
   ]
  },
  {
   "cell_type": "markdown",
   "id": "cb280ea5",
   "metadata": {},
   "source": [
    "regex를 이용하여 불필요한 패턴을 제거한다. "
   ]
  },
  {
   "cell_type": "code",
   "execution_count": null,
   "id": "1f09e34d-fbd0-46e8-beee-2be6db695508",
   "metadata": {},
   "outputs": [],
   "source": [
    "rna_filtered = (rna_filtered.T).astype(float)"
   ]
  },
  {
   "cell_type": "markdown",
   "id": "68ea8e18",
   "metadata": {},
   "source": [
    "원활한 수치 계산을 위해 float형으로 바꿔준 뒤, transpose한다. "
   ]
  },
  {
   "cell_type": "code",
   "execution_count": null,
   "id": "5117f8c7-d028-494d-9da4-d0aff02c0bc2",
   "metadata": {},
   "outputs": [],
   "source": [
    "rna_log = np.log(rna_filtered + 1)"
   ]
  },
  {
   "cell_type": "markdown",
   "id": "036dfa69",
   "metadata": {},
   "source": [
    "로그 변환을 하는데, 이때 1을 더해서 0에 대한 로그변환을 예방한다. 0은 로그변환을 할 수 없기 때문임. 정의가 안됌"
   ]
  },
  {
   "cell_type": "code",
   "execution_count": null,
   "id": "cee23338-87bf-4fb1-abdb-6675312de711",
   "metadata": {},
   "outputs": [],
   "source": [
    "rna_count_norm = (rna_log - rna_log.mean(0))/rna_log.std(0) # by machine learning standards data leakage"
   ]
  },
  {
   "cell_type": "markdown",
   "id": "1d89ba18",
   "metadata": {},
   "source": [
    "z-score 정규화. 이는 데이터 누출을 방지하는 일반적인 규칙이다. "
   ]
  },
  {
   "cell_type": "code",
   "execution_count": null,
   "id": "df112e3f-2a14-4f39-b5b6-42c38c48b2ef",
   "metadata": {},
   "outputs": [],
   "source": [
    "rna_count_norm.dropna(axis=1).to_csv(\"data/rnaseq_normcount.csv\") # remove columns with zero variance and save"
   ]
  },
  {
   "cell_type": "markdown",
   "id": "7d6d4a38",
   "metadata": {},
   "source": [
    "`dropna(axis=1)`를 통해 결측값을 포함한 열을 제거한다. 이전 과정에서 분산이 0인 애들이 na로 저장되는 듯 하다. 확실하진 않음.\n",
    "\n",
    "암튼 분산이 0인 애들은 모든 데이터가 같아 정보가 없으므로 제거하는 것이 일반적이다. "
   ]
  },
  {
   "cell_type": "code",
   "execution_count": null,
   "id": "6f9751d7-b4ac-4d0b-9c0a-f0a558c7171f",
   "metadata": {},
   "outputs": [],
   "source": [
    "GDSC1 = pd.read_excel(\"data/GDSC1.xlsx\")\n",
    "GDSC1.loc[:, [\"SANGER_MODEL_ID\", \"DRUG_ID\", \"LN_IC50\"]].to_csv(\"data/GDSC1.csv\")"
   ]
  },
  {
   "cell_type": "markdown",
   "id": "867685b9",
   "metadata": {},
   "source": [
    "GDSC 데이터에서 필요한 칼럼만 가져와서 따로 저장한다. "
   ]
  },
  {
   "cell_type": "code",
   "execution_count": null,
   "id": "819c06e4-ee3c-4685-9ed4-ba89accac0e7",
   "metadata": {},
   "outputs": [],
   "source": []
  }
 ],
 "metadata": {
  "kernelspec": {
   "display_name": "Python 3 (ipykernel)",
   "language": "python",
   "name": "python3"
  },
  "language_info": {
   "codemirror_mode": {
    "name": "ipython",
    "version": 3
   },
   "file_extension": ".py",
   "mimetype": "text/x-python",
   "name": "python",
   "nbconvert_exporter": "python",
   "pygments_lexer": "ipython3",
   "version": "3.10.15"
  }
 },
 "nbformat": 4,
 "nbformat_minor": 5
}
