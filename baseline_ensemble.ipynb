{
 "cells": [
  {
   "cell_type": "code",
   "execution_count": 7,
   "id": "0b9c0025-cfcf-4cbe-bec1-a08b64524ffe",
   "metadata": {
    "scrolled": true
   },
   "outputs": [],
   "source": [
    "import pandas as pd\n",
    "import scripts\n",
    "from datetime import datetime\n",
    "import torchmetrics\n",
    "import torch"
   ]
  },
  {
   "cell_type": "code",
   "execution_count": 13,
   "id": "3a399ed5-506d-4133-b834-07896924102e",
   "metadata": {},
   "outputs": [],
   "source": [
    "# get data from 5 models\n",
    "rnaseq = pd.read_csv(\"results/pred_baseline_rnaseq_20241206_18:25:44_b6ac866c-ead5-41d3-9dd3-30a418937e67.csv\")\n",
    "methyl = pd.read_csv(\"results/pred_baseline_methylations_20241206_18:26:54_46123574-5571-47f2-9b53-cf7964138929.csv\")\n",
    "prot = pd.read_csv(\"results/pred_baseline_proteomics_20241206_18:28:16_970a0a96-885e-41cc-b81f-d99dff686f87.csv\")\n",
    "muta = pd.read_csv(\"results/pred_baseline_muta_20241206_18:24:40_1c2580dd-a6f6-4d14-9dfd-f674cb162809.csv\")\n",
    "cnv = pd.read_csv(\"results/pred_baseline_cnvs_20241206_18:24:14_2a4a9716-3efd-4b43-9702-c6dbd53db681.csv\")\n",
    "#concat = pd.read_csv(\"results/pred_baseline_concatenated_20241123_010128_ffdb308e-5cff-448f-9dac-a9e99abc226b.csv\")"
   ]
  },
  {
   "cell_type": "code",
   "execution_count": 14,
   "id": "b3459a27-4e1a-432c-bf85-8082edc43ea2",
   "metadata": {},
   "outputs": [
    {
     "name": "stdout",
     "output_type": "stream",
     "text": [
      "Empty DataFrame\n",
      "Columns: [0, 1, 2, 3, 4]\n",
      "Index: []\n"
     ]
    }
   ],
   "source": [
    "# to proceed averaging step, it is require to check if the predicted values are ordered identically \n",
    "check_cell_col = pd.concat([rnaseq[\"cell_line\"], methyl[\"cell_line\"], prot[\"cell_line\"], muta[\"cell_line\"], cnv[\"cell_line\"]],axis = 1, ignore_index=True)\n",
    "all_same = check_cell_col.nunique(axis=1) == 1\n",
    "rows_with_different_values = check_cell_col[~all_same]\n",
    "print(rows_with_different_values) # yes!"
   ]
  },
  {
   "cell_type": "code",
   "execution_count": 18,
   "id": "a1764655-a8b7-401e-bf1a-53de5ec5a08a",
   "metadata": {},
   "outputs": [
    {
     "data": {
      "text/html": [
       "<div>\n",
       "<style scoped>\n",
       "    .dataframe tbody tr th:only-of-type {\n",
       "        vertical-align: middle;\n",
       "    }\n",
       "\n",
       "    .dataframe tbody tr th {\n",
       "        vertical-align: top;\n",
       "    }\n",
       "\n",
       "    .dataframe thead th {\n",
       "        text-align: right;\n",
       "    }\n",
       "</style>\n",
       "<table border=\"1\" class=\"dataframe\">\n",
       "  <thead>\n",
       "    <tr style=\"text-align: right;\">\n",
       "      <th></th>\n",
       "      <th>cell_line</th>\n",
       "      <th>drug_id</th>\n",
       "      <th>prediction</th>\n",
       "      <th>target</th>\n",
       "    </tr>\n",
       "  </thead>\n",
       "  <tbody>\n",
       "    <tr>\n",
       "      <th>0</th>\n",
       "      <td>381.0</td>\n",
       "      <td>0.0</td>\n",
       "      <td>1.774348</td>\n",
       "      <td>0.954770</td>\n",
       "    </tr>\n",
       "    <tr>\n",
       "      <th>1</th>\n",
       "      <td>300.0</td>\n",
       "      <td>0.0</td>\n",
       "      <td>2.642107</td>\n",
       "      <td>2.223223</td>\n",
       "    </tr>\n",
       "    <tr>\n",
       "      <th>2</th>\n",
       "      <td>88.0</td>\n",
       "      <td>0.0</td>\n",
       "      <td>1.699847</td>\n",
       "      <td>3.415529</td>\n",
       "    </tr>\n",
       "    <tr>\n",
       "      <th>3</th>\n",
       "      <td>82.0</td>\n",
       "      <td>0.0</td>\n",
       "      <td>2.049446</td>\n",
       "      <td>1.369229</td>\n",
       "    </tr>\n",
       "    <tr>\n",
       "      <th>4</th>\n",
       "      <td>81.0</td>\n",
       "      <td>0.0</td>\n",
       "      <td>2.283061</td>\n",
       "      <td>2.151403</td>\n",
       "    </tr>\n",
       "    <tr>\n",
       "      <th>...</th>\n",
       "      <td>...</td>\n",
       "      <td>...</td>\n",
       "      <td>...</td>\n",
       "      <td>...</td>\n",
       "    </tr>\n",
       "    <tr>\n",
       "      <th>19951</th>\n",
       "      <td>238.0</td>\n",
       "      <td>361.0</td>\n",
       "      <td>3.807941</td>\n",
       "      <td>4.063567</td>\n",
       "    </tr>\n",
       "    <tr>\n",
       "      <th>19952</th>\n",
       "      <td>248.0</td>\n",
       "      <td>361.0</td>\n",
       "      <td>4.148027</td>\n",
       "      <td>4.012202</td>\n",
       "    </tr>\n",
       "    <tr>\n",
       "      <th>19953</th>\n",
       "      <td>257.0</td>\n",
       "      <td>361.0</td>\n",
       "      <td>4.571984</td>\n",
       "      <td>5.390047</td>\n",
       "    </tr>\n",
       "    <tr>\n",
       "      <th>19954</th>\n",
       "      <td>572.0</td>\n",
       "      <td>361.0</td>\n",
       "      <td>4.350806</td>\n",
       "      <td>4.509333</td>\n",
       "    </tr>\n",
       "    <tr>\n",
       "      <th>19955</th>\n",
       "      <td>7.0</td>\n",
       "      <td>361.0</td>\n",
       "      <td>4.745946</td>\n",
       "      <td>5.060163</td>\n",
       "    </tr>\n",
       "  </tbody>\n",
       "</table>\n",
       "<p>19956 rows × 4 columns</p>\n",
       "</div>"
      ],
      "text/plain": [
       "       cell_line  drug_id  prediction    target\n",
       "0          381.0      0.0    1.774348  0.954770\n",
       "1          300.0      0.0    2.642107  2.223223\n",
       "2           88.0      0.0    1.699847  3.415529\n",
       "3           82.0      0.0    2.049446  1.369229\n",
       "4           81.0      0.0    2.283061  2.151403\n",
       "...          ...      ...         ...       ...\n",
       "19951      238.0    361.0    3.807941  4.063567\n",
       "19952      248.0    361.0    4.148027  4.012202\n",
       "19953      257.0    361.0    4.571984  5.390047\n",
       "19954      572.0    361.0    4.350806  4.509333\n",
       "19955        7.0    361.0    4.745946  5.060163\n",
       "\n",
       "[19956 rows x 4 columns]"
      ]
     },
     "metadata": {},
     "output_type": "display_data"
    }
   ],
   "source": [
    "# Since the predicted values from all 5 models have same order, we can simply take the mean rowwise \n",
    "result = rnaseq[[\"cell_line\", \"drug_id\", \"target\"]]\n",
    "pred_values = pd.concat([rnaseq[\"prediction\"], methyl[\"prediction\"], prot[\"prediction\"], muta[\"prediction\"], cnv[\"prediction\"]],axis = 1, ignore_index=True)\n",
    "\n",
    "mean_prediction = pred_values.mean(axis=1)\n",
    "\n",
    "col = [\"cell_line\", \"drug_id\", \"prediction\", \"target\"]\n",
    "result[\"prediction\"] = mean_prediction.astype(float)\n",
    "result = result[col]\n",
    "result[\"target\"] = result[\"target\"].astype(float)\n",
    "\n",
    "display(result)"
   ]
  },
  {
   "cell_type": "code",
   "execution_count": 19,
   "id": "977b18f5-0e0f-4d5d-ac38-22a457168a76",
   "metadata": {},
   "outputs": [
    {
     "name": "stdout",
     "output_type": "stream",
     "text": [
      "Predictions saved to: results/pred_baseline_ensemble_20241206_19:07:26_5b9155bf-bfce-482f-9805-2271babcfeff.csv\n"
     ]
    }
   ],
   "source": [
    "# save the result\n",
    "filename = scripts.generate_filename(model_name = \"baseline\", dataset_name = \"ensemble\", extension = \"csv\")\n",
    "result.to_csv(\"results/\" + filename, index=False)\n",
    "print(f\"Predictions saved to: results/{filename}\")"
   ]
  },
  {
   "cell_type": "code",
   "execution_count": 21,
   "id": "878282d5-a9e3-4333-8887-ddc0e59decb0",
   "metadata": {},
   "outputs": [
    {
     "name": "stderr",
     "output_type": "stream",
     "text": [
      "/home/kim14/.local/lib/python3.11/site-packages/torchmetrics/utilities/prints.py:43: FutureWarning: The default value for `maximize` will be changed from `True` to `None` in v1.7.0 of TorchMetrics,will automatically infer the value based on the `higher_is_better` attribute of the metric (if such attribute exists) or raise an error if it does not. If you are explicitly setting the `maximize` argument to either `True` or `False` already, you can ignore this warning.\n",
      "  warnings.warn(*args, **kwargs)  # noqa: B028\n",
      "/work/kim14/project_work/scripts/models.py:69: UserWarning: The use of `x.T` on tensors of dimension other than 2 to reverse their shape is deprecated and it will throw an error in a future release. Consider `x.mT` to transpose batches of matrices or `x.permute(*torch.arange(x.ndim - 1, -1, -1))` to reverse the dimensions of a tensor. (Triggered internally at ../aten/src/ATen/native/TensorShape.cpp:3683.)\n",
      "  return torch.linalg.solve(A, Xy).T\n"
     ]
    },
    {
     "name": "stdout",
     "output_type": "stream",
     "text": [
      "{'MSE': 1.6461766958236694, 'R_cellwise': 0.8975447416305542, 'R_cellwise_residuals': 0.32703089714050293}\n"
     ]
    }
   ],
   "source": [
    "# evaluation\n",
    "\n",
    "metrics = torchmetrics.MetricTracker(torchmetrics.MetricCollection(\n",
    "    {\"R_cellwise_residuals\":scripts.GroupwiseMetric(metric=torchmetrics.functional.pearson_corrcoef,\n",
    "                          grouping=\"drugs\",\n",
    "                          average=\"macro\",\n",
    "                          residualize=True),\n",
    "    \"R_cellwise\":scripts.GroupwiseMetric(metric=torchmetrics.functional.pearson_corrcoef,\n",
    "                          grouping=\"cell_lines\",\n",
    "                          average=\"macro\",\n",
    "                          residualize=False),\n",
    "    \"MSE\":torchmetrics.MeanSquaredError()}))\n",
    "\n",
    "metrics.increment()\n",
    "\n",
    "metrics.update( # convert each series to tensor, to make it suitable for metrics.update()\n",
    "    torch.tensor(result[\"prediction\"].values, dtype=torch.float32),\n",
    "    torch.tensor(result[\"target\"].values, dtype=torch.float32),\n",
    "    cell_lines=torch.tensor(result[\"cell_line\"].values),\n",
    "    drugs=torch.tensor(result[\"drug_id\"].values),\n",
    ")\n",
    "\n",
    "ens_final_metrics = {it[0]: it[1].item() for it in metrics.compute().items()}\n",
    "print(ens_final_metrics)"
   ]
  },
  {
   "cell_type": "code",
   "execution_count": 23,
   "id": "a86b91af-d2c0-47cb-a7e4-c2ae4bdcd3d3",
   "metadata": {},
   "outputs": [
    {
     "data": {
      "text/html": [
       "<div>\n",
       "<style scoped>\n",
       "    .dataframe tbody tr th:only-of-type {\n",
       "        vertical-align: middle;\n",
       "    }\n",
       "\n",
       "    .dataframe tbody tr th {\n",
       "        vertical-align: top;\n",
       "    }\n",
       "\n",
       "    .dataframe thead th {\n",
       "        text-align: right;\n",
       "    }\n",
       "</style>\n",
       "<table border=\"1\" class=\"dataframe\">\n",
       "  <thead>\n",
       "    <tr style=\"text-align: right;\">\n",
       "      <th></th>\n",
       "      <th>MSE</th>\n",
       "      <th>R_cellwise</th>\n",
       "      <th>R_cellwise_residuals</th>\n",
       "      <th>Model</th>\n",
       "      <th>Time</th>\n",
       "    </tr>\n",
       "  </thead>\n",
       "  <tbody>\n",
       "    <tr>\n",
       "      <th>0</th>\n",
       "      <td>1.795264</td>\n",
       "      <td>0.890693</td>\n",
       "      <td>0.333604</td>\n",
       "      <td>baseline_rnaseq</td>\n",
       "      <td>20241206_19:25</td>\n",
       "    </tr>\n",
       "    <tr>\n",
       "      <th>1</th>\n",
       "      <td>1.977368</td>\n",
       "      <td>0.874748</td>\n",
       "      <td>0.238710</td>\n",
       "      <td>baseline_proteomics</td>\n",
       "      <td>20241206_19:26</td>\n",
       "    </tr>\n",
       "    <tr>\n",
       "      <th>2</th>\n",
       "      <td>2.400242</td>\n",
       "      <td>0.866647</td>\n",
       "      <td>0.093873</td>\n",
       "      <td>baseline_mutations</td>\n",
       "      <td>20241206_19:26</td>\n",
       "    </tr>\n",
       "    <tr>\n",
       "      <th>3</th>\n",
       "      <td>2.243853</td>\n",
       "      <td>0.868511</td>\n",
       "      <td>0.167871</td>\n",
       "      <td>baseline_methylations</td>\n",
       "      <td>20241206_19:26</td>\n",
       "    </tr>\n",
       "    <tr>\n",
       "      <th>4</th>\n",
       "      <td>1.810338</td>\n",
       "      <td>0.886230</td>\n",
       "      <td>0.320672</td>\n",
       "      <td>baseline_concat</td>\n",
       "      <td>20241206_19:26</td>\n",
       "    </tr>\n",
       "    <tr>\n",
       "      <th>5</th>\n",
       "      <td>1.646177</td>\n",
       "      <td>0.897545</td>\n",
       "      <td>0.327031</td>\n",
       "      <td>baseline_ensemble</td>\n",
       "      <td>20241206_19:26</td>\n",
       "    </tr>\n",
       "  </tbody>\n",
       "</table>\n",
       "</div>"
      ],
      "text/plain": [
       "        MSE  R_cellwise  R_cellwise_residuals                  Model  \\\n",
       "0  1.795264    0.890693              0.333604        baseline_rnaseq   \n",
       "1  1.977368    0.874748              0.238710    baseline_proteomics   \n",
       "2  2.400242    0.866647              0.093873     baseline_mutations   \n",
       "3  2.243853    0.868511              0.167871  baseline_methylations   \n",
       "4  1.810338    0.886230              0.320672        baseline_concat   \n",
       "5  1.646177    0.897545              0.327031      baseline_ensemble   \n",
       "\n",
       "             Time  \n",
       "0  20241206_19:25  \n",
       "1  20241206_19:26  \n",
       "2  20241206_19:26  \n",
       "3  20241206_19:26  \n",
       "4  20241206_19:26  \n",
       "5  20241206_19:26  "
      ]
     },
     "metadata": {},
     "output_type": "display_data"
    }
   ],
   "source": [
    "eresult = ens_final_metrics\n",
    "\n",
    "model_name = \"baseline_ensemble\"\n",
    "eresult[\"Model\"] = model_name\n",
    "time = datetime.now().strftime(\"%Y%m%d_%H:%M\")\n",
    "eresult[\"Time\"] = time\n",
    "\n",
    "eresult_df = pd.DataFrame([eresult])\n",
    "\n",
    "\n",
    "new_column_order = [\"Model\", \"MSE\", \"R_cellwise\", \"R_cellwise_residuals\",\"Time\"]\n",
    "eresult_df = eresult_df[new_column_order]\n",
    "\n",
    "ev_table = pd.read_csv(\"results/evalutation_table.csv\")\n",
    "ev_table = pd.concat([ev_table, eresult_df], ignore_index=True)\n",
    "ev_table = ev_table.drop_duplicates(subset=[\"Model\"],keep = \"last\")\n",
    "display(ev_table)"
   ]
  },
  {
   "cell_type": "code",
   "execution_count": 24,
   "id": "115117ca-57e4-49f4-b40d-700637ec18e6",
   "metadata": {},
   "outputs": [],
   "source": [
    "ev_table.to_csv(\"results/evalutation_table.csv\", index = False)"
   ]
  },
  {
   "cell_type": "code",
   "execution_count": null,
   "id": "9cd18007-47d1-4aaa-b41e-e39cf56873fb",
   "metadata": {},
   "outputs": [],
   "source": [
    "display(ev_table)"
   ]
  },
  {
   "cell_type": "markdown",
   "id": "79545613-2322-42a7-a72c-d8d459565ea1",
   "metadata": {},
   "source": [
    "ohh.. ensemble model is actually good!"
   ]
  },
  {
   "cell_type": "code",
   "execution_count": null,
   "id": "ae872e21-8992-4bef-85eb-773d4cda607a",
   "metadata": {},
   "outputs": [],
   "source": []
  }
 ],
 "metadata": {
  "kernelspec": {
   "display_name": "Python 3 (ipykernel)",
   "language": "python",
   "name": "python3"
  },
  "language_info": {
   "codemirror_mode": {
    "name": "ipython",
    "version": 3
   },
   "file_extension": ".py",
   "mimetype": "text/x-python",
   "name": "python",
   "nbconvert_exporter": "python",
   "pygments_lexer": "ipython3",
   "version": "3.11.7"
  }
 },
 "nbformat": 4,
 "nbformat_minor": 5
}
